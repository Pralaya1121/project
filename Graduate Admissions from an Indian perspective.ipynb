{
 "cells": [
  {
   "cell_type": "code",
   "execution_count": null,
   "id": "1e7fc872",
   "metadata": {},
   "outputs": [],
   "source": [
    "# 1. Useing classification technique for prediction of Graduate Admissions from an Indian perspective"
   ]
  },
  {
   "cell_type": "code",
   "execution_count": 1,
   "id": "ab467c81",
   "metadata": {},
   "outputs": [],
   "source": [
    "import numpy as np\n",
    "import pandas as pd \n",
    "from sklearn.model_selection import train_test_split"
   ]
  },
  {
   "cell_type": "code",
   "execution_count": 2,
   "id": "d5f435f6",
   "metadata": {},
   "outputs": [
    {
     "data": {
      "text/html": [
       "<div>\n",
       "<style scoped>\n",
       "    .dataframe tbody tr th:only-of-type {\n",
       "        vertical-align: middle;\n",
       "    }\n",
       "\n",
       "    .dataframe tbody tr th {\n",
       "        vertical-align: top;\n",
       "    }\n",
       "\n",
       "    .dataframe thead th {\n",
       "        text-align: right;\n",
       "    }\n",
       "</style>\n",
       "<table border=\"1\" class=\"dataframe\">\n",
       "  <thead>\n",
       "    <tr style=\"text-align: right;\">\n",
       "      <th></th>\n",
       "      <th>Serial No.</th>\n",
       "      <th>GRE Score</th>\n",
       "      <th>TOEFL Score</th>\n",
       "      <th>University Rating</th>\n",
       "      <th>SOP</th>\n",
       "      <th>LOR</th>\n",
       "      <th>CGPA</th>\n",
       "      <th>Research</th>\n",
       "      <th>Chance of Admit</th>\n",
       "    </tr>\n",
       "  </thead>\n",
       "  <tbody>\n",
       "    <tr>\n",
       "      <th>0</th>\n",
       "      <td>1</td>\n",
       "      <td>337</td>\n",
       "      <td>118</td>\n",
       "      <td>4</td>\n",
       "      <td>4.5</td>\n",
       "      <td>4.5</td>\n",
       "      <td>9.65</td>\n",
       "      <td>1</td>\n",
       "      <td>0.92</td>\n",
       "    </tr>\n",
       "    <tr>\n",
       "      <th>1</th>\n",
       "      <td>2</td>\n",
       "      <td>324</td>\n",
       "      <td>107</td>\n",
       "      <td>4</td>\n",
       "      <td>4.0</td>\n",
       "      <td>4.5</td>\n",
       "      <td>8.87</td>\n",
       "      <td>1</td>\n",
       "      <td>0.76</td>\n",
       "    </tr>\n",
       "    <tr>\n",
       "      <th>2</th>\n",
       "      <td>3</td>\n",
       "      <td>316</td>\n",
       "      <td>104</td>\n",
       "      <td>3</td>\n",
       "      <td>3.0</td>\n",
       "      <td>3.5</td>\n",
       "      <td>8.00</td>\n",
       "      <td>1</td>\n",
       "      <td>0.72</td>\n",
       "    </tr>\n",
       "    <tr>\n",
       "      <th>3</th>\n",
       "      <td>4</td>\n",
       "      <td>322</td>\n",
       "      <td>110</td>\n",
       "      <td>3</td>\n",
       "      <td>3.5</td>\n",
       "      <td>2.5</td>\n",
       "      <td>8.67</td>\n",
       "      <td>1</td>\n",
       "      <td>0.80</td>\n",
       "    </tr>\n",
       "    <tr>\n",
       "      <th>4</th>\n",
       "      <td>5</td>\n",
       "      <td>314</td>\n",
       "      <td>103</td>\n",
       "      <td>2</td>\n",
       "      <td>2.0</td>\n",
       "      <td>3.0</td>\n",
       "      <td>8.21</td>\n",
       "      <td>0</td>\n",
       "      <td>0.65</td>\n",
       "    </tr>\n",
       "  </tbody>\n",
       "</table>\n",
       "</div>"
      ],
      "text/plain": [
       "   Serial No.  GRE Score  TOEFL Score  University Rating  SOP  LOR   CGPA  \\\n",
       "0           1        337          118                  4  4.5   4.5  9.65   \n",
       "1           2        324          107                  4  4.0   4.5  8.87   \n",
       "2           3        316          104                  3  3.0   3.5  8.00   \n",
       "3           4        322          110                  3  3.5   2.5  8.67   \n",
       "4           5        314          103                  2  2.0   3.0  8.21   \n",
       "\n",
       "   Research  Chance of Admit   \n",
       "0         1              0.92  \n",
       "1         1              0.76  \n",
       "2         1              0.72  \n",
       "3         1              0.80  \n",
       "4         0              0.65  "
      ]
     },
     "execution_count": 2,
     "metadata": {},
     "output_type": "execute_result"
    }
   ],
   "source": [
    "data=pd.read_csv(\"D:\\DATA\\Graduate Adimission\\Admission_Predict.csv\")\n",
    "data.head()"
   ]
  },
  {
   "cell_type": "code",
   "execution_count": 3,
   "id": "f724c1f3",
   "metadata": {},
   "outputs": [
    {
     "name": "stdout",
     "output_type": "stream",
     "text": [
      "<class 'pandas.core.frame.DataFrame'>\n",
      "RangeIndex: 400 entries, 0 to 399\n",
      "Data columns (total 9 columns):\n",
      " #   Column             Non-Null Count  Dtype  \n",
      "---  ------             --------------  -----  \n",
      " 0   Serial No.         400 non-null    int64  \n",
      " 1   GRE Score          400 non-null    int64  \n",
      " 2   TOEFL Score        400 non-null    int64  \n",
      " 3   University Rating  400 non-null    int64  \n",
      " 4   SOP                400 non-null    float64\n",
      " 5   LOR                400 non-null    float64\n",
      " 6   CGPA               400 non-null    float64\n",
      " 7   Research           400 non-null    int64  \n",
      " 8   Chance of Admit    400 non-null    float64\n",
      "dtypes: float64(4), int64(5)\n",
      "memory usage: 28.2 KB\n"
     ]
    }
   ],
   "source": [
    "data.info()"
   ]
  },
  {
   "cell_type": "code",
   "execution_count": 4,
   "id": "616481ba",
   "metadata": {},
   "outputs": [
    {
     "data": {
      "text/plain": [
       "Serial No.           0\n",
       "GRE Score            0\n",
       "TOEFL Score          0\n",
       "University Rating    0\n",
       "SOP                  0\n",
       "LOR                  0\n",
       "CGPA                 0\n",
       "Research             0\n",
       "Chance of Admit      0\n",
       "dtype: int64"
      ]
     },
     "execution_count": 4,
     "metadata": {},
     "output_type": "execute_result"
    }
   ],
   "source": [
    "data.isnull().sum()"
   ]
  },
  {
   "cell_type": "code",
   "execution_count": 5,
   "id": "09fccce6",
   "metadata": {},
   "outputs": [],
   "source": [
    "x_data=data.drop([\"Serial No.\"],axis=1)\n",
    "#x_data.head()\n",
    "y=data[\"Serial No.\"]\n",
    "#y_data.head"
   ]
  },
  {
   "cell_type": "code",
   "execution_count": 7,
   "id": "ccfd5b39",
   "metadata": {},
   "outputs": [
    {
     "name": "stdout",
     "output_type": "stream",
     "text": [
      "(120, 8)\n",
      "(8,)\n",
      "[110.89782097 125.94898585 198.97704545 221.56415363 235.66638373\n",
      " 119.35374416 228.25695967 192.62842755 301.18216357 288.50570227\n",
      " 191.2661651  182.37195369 230.32072772 133.57194181 193.26911383\n",
      "  74.88393105 210.17228269 272.84958515 159.5522716  247.47982659\n",
      " 222.82152356 264.01363557  93.87190365  69.7244511  167.60218959\n",
      " 152.59678979   4.92322103  62.65924624 159.62041451 174.14641509\n",
      " 199.85870771 164.42457031 131.73223395 184.0035132   76.74200725\n",
      " 155.13233823 135.51385158 259.77957077 199.82350915 260.24998236\n",
      " 148.14101097 274.58316853 171.50659721 183.52869888 303.77072404\n",
      " 142.06232423  17.80584339 200.32564594 172.44386208 230.71259375\n",
      " 279.85296504 277.78967747 125.13864101 171.33069961 173.95642632\n",
      " 163.11709781  20.31428612  71.22439898 107.31656077 160.85527521\n",
      " 319.41684544 139.81591702 218.61341074 165.80010186 207.2548387\n",
      " 268.50443919 239.41399942 137.9493874  268.19252628 218.59015325\n",
      " 237.32351938 139.2204075  216.76292796  27.72291316 271.99724485\n",
      "  37.95922954 248.14309662 163.31913881 244.35646712  52.82111694\n",
      " 181.95338982 108.51241577  90.83917554 234.50616936 151.05988814\n",
      " 173.8999117   76.9483861  179.49796052 239.48531235 242.87047707\n",
      " 243.74602372 287.55057638  94.74028511 134.35279325 181.55073141\n",
      " 211.74430343 199.41637943 199.22532027 202.33393429 259.70242957\n",
      " 154.07536431 106.09143092 206.99115145 178.18375914 220.01112664\n",
      " 169.01047111 275.17256256 134.81426645 282.8929855  227.46125528\n",
      " 114.00816189 115.41022095 239.04064595  49.35183235 158.05824576\n",
      " 265.03586309 224.95994709 139.69415743 226.90423078 201.41820484]\n",
      "r_square is: -0.015285088348351072\n"
     ]
    }
   ],
   "source": [
    "x=(x_data-np.min(x_data))/(np.max(x_data)-np.min(x_data)).values #Normalize the data\n",
    "x_train,x_test,y_train,y_test=train_test_split(x,y,test_size=0.30,random_state=0) #split into 70-30 ratio \n",
    "#print(x_train,y_train,x_test,y_test)\n",
    "#print(x_train.shape)\n",
    "#print(y_train.shape)\n",
    "print(x_test.shape)\n",
    "#print(y_test.shape)\n",
    "z1 = np.dot(np.transpose(x_train),x_train)\n",
    "z1\n",
    "z1 = np.linalg.pinv(z1)\n",
    "z1\n",
    "z2 = np.dot(np.transpose(x_train),y_train)\n",
    "z2\n",
    "beta = np.dot(z1,z2)\n",
    "beta\n",
    "print(beta.shape)\n",
    "y_pred = np.dot(x_test,beta)\n",
    "print(y_pred)\n",
    "rss = (np.sum(np.square(y_test - y_pred)))\n",
    "#print('residual sum of squares is :',rss )\n",
    "ymean = np.sum(y_test) / len(y_test)\n",
    "ymean\n",
    "tss = (np.sum(np.square(y_test - ymean)))\n",
    "#print(' Total sum of squares is : ',tss)\n",
    "r2 = 1 - (rss/tss)\n",
    "print('r_square is:',r2)"
   ]
  },
  {
   "cell_type": "code",
   "execution_count": null,
   "id": "4987c966",
   "metadata": {},
   "outputs": [],
   "source": []
  },
  {
   "cell_type": "code",
   "execution_count": 8,
   "id": "527c6e73",
   "metadata": {},
   "outputs": [],
   "source": [
    "\n"
   ]
  },
  {
   "cell_type": "code",
   "execution_count": null,
   "id": "5f9d2d36",
   "metadata": {},
   "outputs": [],
   "source": []
  },
  {
   "cell_type": "code",
   "execution_count": 9,
   "id": "676a4e0f",
   "metadata": {},
   "outputs": [],
   "source": []
  },
  {
   "cell_type": "code",
   "execution_count": null,
   "id": "8ad730fd",
   "metadata": {},
   "outputs": [],
   "source": []
  },
  {
   "cell_type": "code",
   "execution_count": null,
   "id": "4656a509",
   "metadata": {},
   "outputs": [],
   "source": [
    "\n"
   ]
  },
  {
   "cell_type": "code",
   "execution_count": null,
   "id": "a408a4ce",
   "metadata": {},
   "outputs": [],
   "source": []
  },
  {
   "cell_type": "code",
   "execution_count": 13,
   "id": "7140cc0f",
   "metadata": {},
   "outputs": [],
   "source": []
  },
  {
   "cell_type": "code",
   "execution_count": null,
   "id": "e3d1b312",
   "metadata": {},
   "outputs": [],
   "source": []
  },
  {
   "cell_type": "code",
   "execution_count": null,
   "id": "be642cc4",
   "metadata": {},
   "outputs": [],
   "source": []
  },
  {
   "cell_type": "code",
   "execution_count": 17,
   "id": "6265451a",
   "metadata": {},
   "outputs": [],
   "source": []
  },
  {
   "cell_type": "code",
   "execution_count": null,
   "id": "25c58778",
   "metadata": {},
   "outputs": [],
   "source": []
  }
 ],
 "metadata": {
  "kernelspec": {
   "display_name": "Python 3 (ipykernel)",
   "language": "python",
   "name": "python3"
  },
  "language_info": {
   "codemirror_mode": {
    "name": "ipython",
    "version": 3
   },
   "file_extension": ".py",
   "mimetype": "text/x-python",
   "name": "python",
   "nbconvert_exporter": "python",
   "pygments_lexer": "ipython3",
   "version": "3.9.7"
  }
 },
 "nbformat": 4,
 "nbformat_minor": 5
}
